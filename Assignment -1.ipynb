{
 "cells": [
  {
   "cell_type": "markdown",
   "id": "6534c258-10a5-4758-b26f-7e77c9488222",
   "metadata": {},
   "source": [
    "Q1. Create one variable containing following type of data:\n",
    "\n",
    "(i)\t string\n",
    "\n",
    "(ii) list\n",
    "\n",
    "(iii) float\n",
    "\n",
    "(iv)  tuple"
   ]
  },
  {
   "cell_type": "code",
   "execution_count": 1,
   "id": "a94df26b-88c7-44ca-bd9c-7686c395bcc2",
   "metadata": {},
   "outputs": [
    {
     "name": "stdout",
     "output_type": "stream",
     "text": [
      "Akash\n"
     ]
    }
   ],
   "source": [
    "#i)creating variable using String\n",
    "s1=\"Akash\"\n",
    "print(s1)"
   ]
  },
  {
   "cell_type": "code",
   "execution_count": 2,
   "id": "efd2fc73-ffdb-41d0-b18a-c2a0032d65a6",
   "metadata": {},
   "outputs": [
    {
     "name": "stdout",
     "output_type": "stream",
     "text": [
      "[23, 45, 56.6, 'Python', 4.5j, True]\n"
     ]
    }
   ],
   "source": [
    "#i)creating variable using list\n",
    "list=[23,45,56.6,\"Python\",4.5j,True]\n",
    "print(list)"
   ]
  },
  {
   "cell_type": "code",
   "execution_count": 3,
   "id": "8a8cc5f7-59ef-4cf2-8677-76b7650e7576",
   "metadata": {},
   "outputs": [
    {
     "name": "stdout",
     "output_type": "stream",
     "text": [
      "3.14\n"
     ]
    }
   ],
   "source": [
    "#i)creating variable using float\n",
    "a=3.14\n",
    "print(a)"
   ]
  },
  {
   "cell_type": "code",
   "execution_count": 6,
   "id": "1c48b052-369d-474d-9695-0a4617d237ca",
   "metadata": {},
   "outputs": [
    {
     "name": "stdout",
     "output_type": "stream",
     "text": [
      "(34, 34.1, 'Java', False, 'Audi')\n"
     ]
    }
   ],
   "source": [
    "#i)creating variable using tuple\n",
    "tuple=(34,34.1,\"Java\",False,\"Audi\")\n",
    "print(tuple)"
   ]
  },
  {
   "cell_type": "markdown",
   "id": "e987add6-a450-46d9-b541-7260874650a0",
   "metadata": {},
   "source": [
    "Q2. Given are some following variables containing data:\n",
    "(i) var1 = ‘ ‘\n",
    "(ii) var2 = ‘[ DS , ML , Python]’\n",
    "(iii) var3 = [ ‘DS’ , ’ML’ , ‘Python’ ]\n",
    "(iv) var4 = 1.\n",
    "What will be the data type of the above given variable."
   ]
  },
  {
   "cell_type": "code",
   "execution_count": 7,
   "id": "70e983ee-7f2c-422b-846f-da3868a6576c",
   "metadata": {},
   "outputs": [
    {
     "data": {
      "text/plain": [
       "str"
      ]
     },
     "execution_count": 7,
     "metadata": {},
     "output_type": "execute_result"
    }
   ],
   "source": [
    "#1)var1=''\n",
    "var1=''\n",
    "type(var1)"
   ]
  },
  {
   "cell_type": "code",
   "execution_count": 12,
   "id": "3dc1311c-3e2f-472b-8ea1-b8f9041b63d9",
   "metadata": {},
   "outputs": [
    {
     "data": {
      "text/plain": [
       "str"
      ]
     },
     "execution_count": 13,
     "metadata": {},
     "output_type": "execute_result"
    }
   ],
   "source": [
    "#(ii) var2 = ‘[ DS , ML , Python]’\n",
    "var2='[ DS , ML , Python]'\n",
    "type(var2)"
   ]
  },
  {
   "cell_type": "code",
   "execution_count": 16,
   "id": "f032dcc2-e051-4b45-ac86-4fa251d59164",
   "metadata": {},
   "outputs": [
    {
     "data": {
      "text/plain": [
       "list"
      ]
     },
     "execution_count": 16,
     "metadata": {},
     "output_type": "execute_result"
    }
   ],
   "source": [
    "#(iii) var3 = [ ‘DS’ , ’ML’ , ‘Python’ ]\n",
    "var3 = [ 'DS', 'ML','Python' ]\n",
    "type(var3)"
   ]
  },
  {
   "cell_type": "code",
   "execution_count": 18,
   "id": "067fb6fe-2f4c-487b-8b77-00236b943738",
   "metadata": {},
   "outputs": [
    {
     "data": {
      "text/plain": [
       "int"
      ]
     },
     "execution_count": 18,
     "metadata": {},
     "output_type": "execute_result"
    }
   ],
   "source": [
    "#var4=1\n",
    "var4=1\n",
    "type(var4)"
   ]
  },
  {
   "cell_type": "markdown",
   "id": "0a43dbe6-1b90-479c-a5d6-fa79d2388ebe",
   "metadata": {},
   "source": [
    "Q3. Explain the use of the following operators using an example:\n",
    "(i) /\n",
    "(ii) %\n",
    "(iii) //\n",
    "(iv) **"
   ]
  },
  {
   "cell_type": "code",
   "execution_count": 21,
   "id": "010f9126-1a1a-482b-ad21-88bb72d3c03e",
   "metadata": {},
   "outputs": [
    {
     "data": {
      "text/plain": [
       "2"
      ]
     },
     "execution_count": 21,
     "metadata": {},
     "output_type": "execute_result"
    }
   ],
   "source": [
    "a=10\n",
    "b=5\n",
    "a/b\n",
    "\n"
   ]
  },
  {
   "cell_type": "code",
   "execution_count": 22,
   "id": "43246e04-7405-4e1f-aa45-2fd8775d88de",
   "metadata": {},
   "outputs": [
    {
     "data": {
      "text/plain": [
       "0"
      ]
     },
     "execution_count": 22,
     "metadata": {},
     "output_type": "execute_result"
    }
   ],
   "source": [
    "a%b"
   ]
  },
  {
   "cell_type": "code",
   "execution_count": 23,
   "id": "5a3e4ace-b875-4007-81a6-352873e12ddc",
   "metadata": {},
   "outputs": [
    {
     "data": {
      "text/plain": [
       "2"
      ]
     },
     "execution_count": 23,
     "metadata": {},
     "output_type": "execute_result"
    }
   ],
   "source": [
    "a//b\n"
   ]
  },
  {
   "cell_type": "code",
   "execution_count": 25,
   "id": "c05644dc-dd5e-44e8-b397-14fd04ff4ca5",
   "metadata": {},
   "outputs": [
    {
     "data": {
      "text/plain": [
       "16"
      ]
     },
     "execution_count": 25,
     "metadata": {},
     "output_type": "execute_result"
    }
   ],
   "source": [
    "2**4"
   ]
  },
  {
   "cell_type": "markdown",
   "id": "2243ba32-f646-4410-9f90-6d06feab4d1e",
   "metadata": {},
   "source": [
    "Q4. Create a list of length 10 of your choice containing multiple types of data. Using for loop print the\n",
    "element and its data type."
   ]
  },
  {
   "cell_type": "code",
   "execution_count": 32,
   "id": "de165f6a-6532-4ac5-baff-697ff8b98889",
   "metadata": {},
   "outputs": [
    {
     "name": "stdout",
     "output_type": "stream",
     "text": [
      "<class 'int'>\n",
      "<class 'int'>\n",
      "<class 'float'>\n",
      "<class 'bool'>\n",
      "<class 'str'>\n",
      "<class 'complex'>\n",
      "<class 'str'>\n",
      "<class 'float'>\n",
      "<class 'bool'>\n",
      "<class 'str'>\n"
     ]
    }
   ],
   "source": [
    "l=[34,67,56.3,True,\"Akash\",34.8j,\"Mango\",3456.7,False,\"cricket\"]\n",
    "for i in l:\n",
    " print(type(i))"
   ]
  },
  {
   "cell_type": "markdown",
   "id": "154be80f-876f-44d1-a4c0-353dacfcf7ad",
   "metadata": {},
   "source": [
    "Q5. Using a while loop, verify if the number A is purely divisible by number B and if so then how many\n",
    "times it can be divisible."
   ]
  },
  {
   "cell_type": "code",
   "execution_count": 37,
   "id": "fd5b1cc2-3320-438c-b396-4ab3c03a6959",
   "metadata": {},
   "outputs": [
    {
     "name": "stdin",
     "output_type": "stream",
     "text": [
      "Enter number a:  8\n",
      "Enter number b:  2\n"
     ]
    },
    {
     "name": "stdout",
     "output_type": "stream",
     "text": [
      "2 divides 1 3 times.\n"
     ]
    }
   ],
   "source": [
    "a = int(input(\"Enter number a: \"))\n",
    "b = int(input(\"Enter number b: \"))\n",
    "\n",
    "count = 0  # Initialize the count\n",
    "\n",
    "while a % b == 0:\n",
    "    a = a // b  # Divide A by B\n",
    "    count += 1  # Increment the count\n",
    "\n",
    "if count > 0:\n",
    "    print(f\"{b} divides {a} {count} times.\")\n",
    "else:\n",
    "    print(f\"{b} does not divide {a}.\")\n"
   ]
  },
  {
   "cell_type": "markdown",
   "id": "d2fc07ff-d8d8-4a75-bb43-cf46c8edd5f9",
   "metadata": {},
   "source": [
    "Q6. Create a list containing 25 int type data. Using for loop and if-else condition print if the element is\n",
    "divisible by 3 or not."
   ]
  },
  {
   "cell_type": "code",
   "execution_count": 44,
   "id": "03e1955d-c881-4f8b-acf2-e7be876354b3",
   "metadata": {},
   "outputs": [
    {
     "name": "stdout",
     "output_type": "stream",
     "text": [
      "34 is not divisible by 3.\n",
      "45 is divisible by 3.\n",
      "99 is divisible by 3.\n",
      "9 is divisible by 3.\n",
      "24 is divisible by 3.\n",
      "23 is not divisible by 3.\n",
      "45 is divisible by 3.\n",
      "24 is divisible by 3.\n",
      "27 is divisible by 3.\n",
      "21 is divisible by 3.\n",
      "25 is not divisible by 3.\n",
      "124 is not divisible by 3.\n",
      "235 is not divisible by 3.\n",
      "456 is divisible by 3.\n",
      "56 is not divisible by 3.\n",
      "34 is not divisible by 3.\n",
      "23 is not divisible by 3.\n",
      "123 is divisible by 3.\n",
      "445 is not divisible by 3.\n",
      "567 is divisible by 3.\n",
      "342 is divisible by 3.\n",
      "8 is not divisible by 3.\n",
      "9 is divisible by 3.\n",
      "54 is divisible by 3.\n",
      "64 is not divisible by 3.\n"
     ]
    }
   ],
   "source": [
    "num=[34,45,99,9,24,23,45,24,27,21,25,124,235,456,56,34,23,123,445,567,342,8,9,54,64]\n",
    "for i in num:\n",
    "    if i % 3 == 0:\n",
    "        print(f\"{i} is divisible by 3.\")\n",
    "    else:\n",
    "        print(f\"{i} is not divisible by 3.\")"
   ]
  },
  {
   "cell_type": "markdown",
   "id": "4e49d215-506c-4e4b-b6de-2f9309c311e0",
   "metadata": {},
   "source": [
    "Q7. What do you understand about mutable and immutable data types? Give examples for both showing\n",
    "this property."
   ]
  },
  {
   "cell_type": "markdown",
   "id": "35792793-7319-45ee-8c7e-a0f332a16abd",
   "metadata": {},
   "source": [
    "1)\n",
    "Mutable object:\n",
    "In mutable object we can change the value of any given list at only particular index position.\n",
    "for eg list in these we  can change the value of index.\n",
    "2)Immutable object:\n",
    "In Imutable object we cannot change the value of given list of their particular index positon. if we want to change then we have to cahnge the whole list.\n",
    "for eg string."
   ]
  },
  {
   "cell_type": "code",
   "execution_count": 45,
   "id": "64185fcb-6a3e-4da5-bace-e63661d9d633",
   "metadata": {},
   "outputs": [
    {
     "data": {
      "text/plain": [
       "[23, 34.5, 3.14j, 'mango', 'k', 5456]"
      ]
     },
     "execution_count": 45,
     "metadata": {},
     "output_type": "execute_result"
    }
   ],
   "source": [
    "#exmple of mutable object\n",
    "l=[23,34.5,3.14j,\"mango\",'k',5456]\n",
    "l"
   ]
  },
  {
   "cell_type": "code",
   "execution_count": 47,
   "id": "5bb4488a-3f91-4ba9-bf08-a41e4b9b2e77",
   "metadata": {},
   "outputs": [
    {
     "data": {
      "text/plain": [
       "[23, 34.5, 3.14j, 'mango', 'Akash', 5456]"
      ]
     },
     "execution_count": 47,
     "metadata": {},
     "output_type": "execute_result"
    }
   ],
   "source": [
    "l[4]=\"Akash\"\n",
    "l"
   ]
  },
  {
   "cell_type": "code",
   "execution_count": 48,
   "id": "7773853a-73da-42f9-973e-286283f431e5",
   "metadata": {},
   "outputs": [
    {
     "data": {
      "text/plain": [
       "'Python'"
      ]
     },
     "execution_count": 48,
     "metadata": {},
     "output_type": "execute_result"
    }
   ],
   "source": [
    "#example of Immutable object\n",
    "s1=\"Python\"\n",
    "s1"
   ]
  },
  {
   "cell_type": "code",
   "execution_count": 49,
   "id": "f2e48405-9f15-4e52-a485-3b302bddb3ff",
   "metadata": {},
   "outputs": [
    {
     "ename": "TypeError",
     "evalue": "'str' object does not support item assignment",
     "output_type": "error",
     "traceback": [
      "\u001b[0;31m---------------------------------------------------------------------------\u001b[0m",
      "\u001b[0;31mTypeError\u001b[0m                                 Traceback (most recent call last)",
      "Cell \u001b[0;32mIn[49], line 1\u001b[0m\n\u001b[0;32m----> 1\u001b[0m \u001b[43ms1\u001b[49m\u001b[43m[\u001b[49m\u001b[38;5;241;43m2\u001b[39;49m\u001b[43m]\u001b[49m\u001b[38;5;241m=\u001b[39m\u001b[38;5;124m'\u001b[39m\u001b[38;5;124mw\u001b[39m\u001b[38;5;124m'\u001b[39m\n\u001b[1;32m      2\u001b[0m s1\n",
      "\u001b[0;31mTypeError\u001b[0m: 'str' object does not support item assignment"
     ]
    }
   ],
   "source": [
    "s1[2]='w'\n",
    "s1"
   ]
  },
  {
   "cell_type": "code",
   "execution_count": 50,
   "id": "83532a34-3034-4fbc-8a68-ae568ce8decd",
   "metadata": {},
   "outputs": [
    {
     "data": {
      "text/plain": [
       "'Java'"
      ]
     },
     "execution_count": 50,
     "metadata": {},
     "output_type": "execute_result"
    }
   ],
   "source": [
    "#if we want to change we havw ti cahnge the whole value of particualr variable\n",
    "s1=\"Java\"\n",
    "s1"
   ]
  },
  {
   "cell_type": "code",
   "execution_count": null,
   "id": "2c323785-75c4-4961-9fd4-d747adb585b7",
   "metadata": {},
   "outputs": [],
   "source": []
  }
 ],
 "metadata": {
  "kernelspec": {
   "display_name": "Python 3 (ipykernel)",
   "language": "python",
   "name": "python3"
  },
  "language_info": {
   "codemirror_mode": {
    "name": "ipython",
    "version": 3
   },
   "file_extension": ".py",
   "mimetype": "text/x-python",
   "name": "python",
   "nbconvert_exporter": "python",
   "pygments_lexer": "ipython3",
   "version": "3.10.8"
  }
 },
 "nbformat": 4,
 "nbformat_minor": 5
}
